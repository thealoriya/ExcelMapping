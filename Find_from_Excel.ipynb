{
 "cells": [
  {
   "cell_type": "code",
   "execution_count": 6,
   "id": "185d9fb4",
   "metadata": {},
   "outputs": [],
   "source": [
    "from openpyxl import Workbook, load_workbook\n",
    "import pandas as pd\n",
    "wb = load_workbook(\"validation.xlsx\")\n",
    "ws = wb.active\n",
    "import numpy as np\n",
    "import glob\n",
    "files = glob.glob(\"*.xls*\")\n",
    "# print(files)\n",
    "# ws.write_column('A1', files)"
   ]
  },
  {
   "cell_type": "code",
   "execution_count": 7,
   "id": "2c617654",
   "metadata": {},
   "outputs": [],
   "source": [
    "main = pd.DataFrame()"
   ]
  },
  {
   "cell_type": "code",
   "execution_count": 8,
   "id": "b181f099",
   "metadata": {},
   "outputs": [
    {
     "name": "stdout",
     "output_type": "stream",
     "text": [
      "True\n",
      "True\n",
      "True\n",
      "True\n",
      "True\n",
      "True\n",
      "True\n",
      "True\n"
     ]
    },
    {
     "data": {
      "text/html": [
       "<div>\n",
       "<style scoped>\n",
       "    .dataframe tbody tr th:only-of-type {\n",
       "        vertical-align: middle;\n",
       "    }\n",
       "\n",
       "    .dataframe tbody tr th {\n",
       "        vertical-align: top;\n",
       "    }\n",
       "\n",
       "    .dataframe thead th {\n",
       "        text-align: right;\n",
       "    }\n",
       "</style>\n",
       "<table border=\"1\" class=\"dataframe\">\n",
       "  <thead>\n",
       "    <tr style=\"text-align: right;\">\n",
       "      <th></th>\n",
       "      <th>control_id</th>\n",
       "      <th>Employee Id</th>\n",
       "      <th>Full Name</th>\n",
       "      <th>SSN</th>\n",
       "    </tr>\n",
       "  </thead>\n",
       "  <tbody>\n",
       "    <tr>\n",
       "      <th>0</th>\n",
       "      <td>Alr_00001.xls</td>\n",
       "      <td>15489</td>\n",
       "      <td>Ranjeet Aloriya</td>\n",
       "      <td>226831878</td>\n",
       "    </tr>\n",
       "    <tr>\n",
       "      <th>1</th>\n",
       "      <td>Alr_00002.xls</td>\n",
       "      <td>24095</td>\n",
       "      <td>Ashwani Kumar</td>\n",
       "      <td>463803134</td>\n",
       "    </tr>\n",
       "    <tr>\n",
       "      <th>2</th>\n",
       "      <td>Alr_00002.xls</td>\n",
       "      <td>24186</td>\n",
       "      <td>Ravinder Kumar</td>\n",
       "      <td>209152380</td>\n",
       "    </tr>\n",
       "    <tr>\n",
       "      <th>3</th>\n",
       "      <td>Alr_00002.xls</td>\n",
       "      <td>24277</td>\n",
       "      <td>Aman Digra</td>\n",
       "      <td>205685021</td>\n",
       "    </tr>\n",
       "    <tr>\n",
       "      <th>4</th>\n",
       "      <td>Alr_00002.xls</td>\n",
       "      <td>24368</td>\n",
       "      <td>Sachin Bhagat</td>\n",
       "      <td>866455766</td>\n",
       "    </tr>\n",
       "    <tr>\n",
       "      <th>5</th>\n",
       "      <td>Alr_00002.xls</td>\n",
       "      <td>24459</td>\n",
       "      <td>Alok Kumar</td>\n",
       "      <td>273874956</td>\n",
       "    </tr>\n",
       "    <tr>\n",
       "      <th>6</th>\n",
       "      <td>Alr_00002.xls</td>\n",
       "      <td>24550</td>\n",
       "      <td>Ajay Kumar</td>\n",
       "      <td>461170879</td>\n",
       "    </tr>\n",
       "    <tr>\n",
       "      <th>7</th>\n",
       "      <td>Alr_00002.xls</td>\n",
       "      <td>29875</td>\n",
       "      <td>Shubam Padha</td>\n",
       "      <td>531346743</td>\n",
       "    </tr>\n",
       "  </tbody>\n",
       "</table>\n",
       "</div>"
      ],
      "text/plain": [
       "      control_id  Employee Id        Full Name        SSN\n",
       "0  Alr_00001.xls        15489  Ranjeet Aloriya  226831878\n",
       "1  Alr_00002.xls        24095    Ashwani Kumar  463803134\n",
       "2  Alr_00002.xls        24186   Ravinder Kumar  209152380\n",
       "3  Alr_00002.xls        24277       Aman Digra  205685021\n",
       "4  Alr_00002.xls        24368    Sachin Bhagat  866455766\n",
       "5  Alr_00002.xls        24459       Alok Kumar  273874956\n",
       "6  Alr_00002.xls        24550       Ajay Kumar  461170879\n",
       "7  Alr_00002.xls        29875     Shubam Padha  531346743"
      ]
     },
     "execution_count": 8,
     "metadata": {},
     "output_type": "execute_result"
    }
   ],
   "source": [
    "for r in range(2, 10):\n",
    "    cntrl_id = ws.cell(r, 1).value\n",
    "    df = pd.read_excel(cntrl_id)\n",
    "    ssn = ws.cell(r, 2).value\n",
    "    df = df[df.eq(ssn).any(1)]\n",
    "    if df.empty:\n",
    "        print(False) # for a result List\n",
    "    else:\n",
    "        print(True)\n",
    "    main = main.append(df,ignore_index=True) # for DataFrame\n",
    "    r = r+1;\n",
    "main"
   ]
  },
  {
   "cell_type": "code",
   "execution_count": null,
   "id": "3ee4f6f0",
   "metadata": {},
   "outputs": [],
   "source": [
    "cntrl_id"
   ]
  },
  {
   "cell_type": "code",
   "execution_count": null,
   "id": "5a4afd94",
   "metadata": {},
   "outputs": [],
   "source": [
    "pd.read_excel(r\"C:\\Users\\HP\\OneDrive\\Documents\\Python Scripts\"+cntrl_id)"
   ]
  },
  {
   "cell_type": "code",
   "execution_count": null,
   "id": "26acb000",
   "metadata": {},
   "outputs": [],
   "source": [
    "from openpyxl import Workbook, load_workbook\n",
    "import pandas as pd\n",
    "wb = load_workbook(r\"C:\\Users\\HP\\OneDrive\\Documents\\Python Scripts\\loops.xlsx\")\n",
    "ws = wb.active\n",
    "main = pd.DataFrame()\n",
    "for r in range(2, 5):\n",
    "    cntrl_id = ws.cell(r, 1).value\n",
    "    df = pd.read_excel(r\"C:\\Users\\HP\\OneDrive\\Documents\\Python Scripts/\"+cntrl_id)\n",
    "    ssn = ws.cell(r, 2).value\n",
    "    df = df[df.eq(ssn).any(1)]\n",
    "    if df.empty:\n",
    "        print(False) # for a result List\n",
    "    else:\n",
    "        print(True)\n",
    "#     main = main.append(df,ignore_index=True) # for DataFrame\n",
    "    r = r+1;\n",
    "# main"
   ]
  },
  {
   "cell_type": "code",
   "execution_count": 3,
   "id": "4b265d6c",
   "metadata": {},
   "outputs": [
    {
     "ename": "NameError",
     "evalue": "name 'xlsxwriter' is not defined",
     "output_type": "error",
     "traceback": [
      "\u001b[1;31m---------------------------------------------------------------------------\u001b[0m",
      "\u001b[1;31mNameError\u001b[0m                                 Traceback (most recent call last)",
      "\u001b[1;32m~\\AppData\\Local\\Temp/ipykernel_22632/4086067624.py\u001b[0m in \u001b[0;36m<module>\u001b[1;34m\u001b[0m\n\u001b[1;32m----> 1\u001b[1;33m \u001b[0mworkbook\u001b[0m   \u001b[1;33m=\u001b[0m \u001b[0mxlsxwriter\u001b[0m\u001b[1;33m.\u001b[0m\u001b[0mWorkbook\u001b[0m\u001b[1;33m(\u001b[0m\u001b[1;34m'filename.xlsx'\u001b[0m\u001b[1;33m)\u001b[0m\u001b[1;33m\u001b[0m\u001b[1;33m\u001b[0m\u001b[0m\n\u001b[0m\u001b[0;32m      2\u001b[0m \u001b[1;33m\u001b[0m\u001b[0m\n\u001b[0;32m      3\u001b[0m \u001b[0mworksheet\u001b[0m \u001b[1;33m=\u001b[0m \u001b[0mworkbook\u001b[0m\u001b[1;33m.\u001b[0m\u001b[0madd_worksheet\u001b[0m\u001b[1;33m(\u001b[0m\u001b[1;33m)\u001b[0m\u001b[1;33m\u001b[0m\u001b[1;33m\u001b[0m\u001b[0m\n\u001b[0;32m      4\u001b[0m \u001b[1;33m\u001b[0m\u001b[0m\n\u001b[0;32m      5\u001b[0m \u001b[0mworksheet\u001b[0m\u001b[1;33m.\u001b[0m\u001b[0mwrite\u001b[0m\u001b[1;33m(\u001b[0m\u001b[1;34m'A1'\u001b[0m\u001b[1;33m,\u001b[0m \u001b[1;36m123\u001b[0m\u001b[1;33m)\u001b[0m\u001b[1;33m\u001b[0m\u001b[1;33m\u001b[0m\u001b[0m\n",
      "\u001b[1;31mNameError\u001b[0m: name 'xlsxwriter' is not defined"
     ]
    }
   ],
   "source": [
    "workbook   = xlsxwriter.Workbook('filename.xlsx')\n",
    "\n",
    "worksheet = workbook.add_worksheet()\n",
    "\n",
    "worksheet.write('A1', 123)\n",
    "\n",
    "workbook.close()"
   ]
  },
  {
   "cell_type": "code",
   "execution_count": 2,
   "id": "75dca012",
   "metadata": {},
   "outputs": [
    {
     "name": "stdout",
     "output_type": "stream",
     "text": [
      "Requirement already satisfied: xlsxwriter in c:\\users\\hp\\anaconda3\\lib\\site-packages (3.0.1)\n",
      "Note: you may need to restart the kernel to use updated packages.\n"
     ]
    }
   ],
   "source": [
    "pip install xlsxwriter"
   ]
  },
  {
   "cell_type": "code",
   "execution_count": null,
   "id": "07485643",
   "metadata": {},
   "outputs": [],
   "source": []
  }
 ],
 "metadata": {
  "kernelspec": {
   "display_name": "Python 3 (ipykernel)",
   "language": "python",
   "name": "python3"
  },
  "language_info": {
   "codemirror_mode": {
    "name": "ipython",
    "version": 3
   },
   "file_extension": ".py",
   "mimetype": "text/x-python",
   "name": "python",
   "nbconvert_exporter": "python",
   "pygments_lexer": "ipython3",
   "version": "3.9.7"
  }
 },
 "nbformat": 4,
 "nbformat_minor": 5
}
