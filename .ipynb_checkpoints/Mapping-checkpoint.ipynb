{
 "cells": [
  {
   "cell_type": "code",
   "execution_count": 1,
   "id": "0fedd2e5",
   "metadata": {},
   "outputs": [
    {
     "name": "stdout",
     "output_type": "stream",
     "text": [
      "['Alr_00001.xlsx', 'Alr_00002.xlsx', 'Alr_00003.xlsx', 'loops.xlsx']\n"
     ]
    }
   ],
   "source": [
    "import pandas as pd\n",
    "import numpy as np\n",
    "import glob\n",
    "files = glob.glob(\"*.xlsx\")\n",
    "print(files)\n",
    "# main = pd.DataFrame()\n",
    "# def all_files(i):\n",
    "#     df1 = pd.read_excel(files[i])\n",
    "#     df1['control_id']=files[i]\n",
    "#     df2 = df1.set_index('control_id')\n",
    "#     df2\n",
    "#     df2.to_excel(r\"C:\\Users\\HP\\OneDrive\\Documents\\Python Scripts\\FP Completed\\FP_Ranjeet Aloriya_\"+files[i])\n",
    "# for i in range(len(files)):\n",
    "#     all_files(i)\n",
    "# # for file in files:\n",
    "# #     df = pd.concat(pd.read_excel(file, sheet_name=None),ignore_index=True,sort=False)\n",
    "# #     main = main.append(df,ignore_index=True)\n",
    "# # finale = main.set_index('control_id')\n",
    "# # finale.to_excel('main.xlsx')"
   ]
  },
  {
   "cell_type": "code",
   "execution_count": null,
   "id": "ee5311e3",
   "metadata": {},
   "outputs": [],
   "source": [
    "df = pd.read_excel(\"Alr_00001.xlsx\")"
   ]
  },
  {
   "cell_type": "code",
   "execution_count": null,
   "id": "d75ecf2a",
   "metadata": {},
   "outputs": [],
   "source": [
    "s = df[df.eq(226831878).any(1)]\n",
    "s"
   ]
  },
  {
   "cell_type": "code",
   "execution_count": null,
   "id": "8e2ac9eb",
   "metadata": {},
   "outputs": [],
   "source": [
    "def all_files(i):\n",
    "    df1 = pd.read_excel(files[i])\n",
    "    df1['control_id']=files[i]\n",
    "    df2 = df1.set_index('control_id')\n",
    "    df2\n",
    "    df2.to_excel(files[i])\n",
    "for i in range(len(files)):\n",
    "    all_files(i)\n",
    "for file in files:\n",
    "    df = pd.concat(pd.read_excel(file, sheet_name=None),ignore_index=True,sort=False)\n",
    "    main = main.append(df,ignore_index=True)\n",
    "finale = main.set_index('control_id')\n",
    "finale.to_excel('main.xlsx')"
   ]
  },
  {
   "cell_type": "code",
   "execution_count": null,
   "id": "18c1d476",
   "metadata": {},
   "outputs": [],
   "source": []
  },
  {
   "cell_type": "code",
   "execution_count": null,
   "id": "e86ea27c",
   "metadata": {},
   "outputs": [],
   "source": [
    "for i in range(len(files)):\n",
    "    all_files(i)"
   ]
  },
  {
   "cell_type": "code",
   "execution_count": null,
   "id": "3c2d4e81",
   "metadata": {},
   "outputs": [],
   "source": [
    "all_files(i)"
   ]
  },
  {
   "cell_type": "code",
   "execution_count": null,
   "id": "96591f14",
   "metadata": {},
   "outputs": [],
   "source": [
    "for file in files:\n",
    "    df = pd.concat(pd.read_excel(file, sheet_name=None),ignore_index=True,sort=False)\n",
    "for i in range(0, len(files)):\n",
    "    i=i\n",
    "    print(i)\n",
    "for f in range(1, len(df.index)):\n",
    "    df['Control_id']=f\n",
    "    f = files[i];\n",
    "    i = i+1;\n",
    "#     print(f)\n",
    "#     df['Control_id']=f\n",
    "#             main = main.append(df,ignore_index=True)"
   ]
  },
  {
   "cell_type": "code",
   "execution_count": null,
   "id": "aab13208",
   "metadata": {},
   "outputs": [],
   "source": [
    "i"
   ]
  },
  {
   "cell_type": "code",
   "execution_count": null,
   "id": "df15131d",
   "metadata": {},
   "outputs": [],
   "source": [
    "df1 = pd.read_excel(files[0])\n",
    "df1['Control_id']=files[0]"
   ]
  },
  {
   "cell_type": "code",
   "execution_count": null,
   "id": "fef8a2e0",
   "metadata": {},
   "outputs": [],
   "source": [
    "df2 = df1.set_index('Control_id')"
   ]
  },
  {
   "cell_type": "code",
   "execution_count": null,
   "id": "7ca02460",
   "metadata": {},
   "outputs": [],
   "source": [
    "df2"
   ]
  },
  {
   "cell_type": "code",
   "execution_count": null,
   "id": "b203b43c",
   "metadata": {},
   "outputs": [],
   "source": [
    "df2.to_excel('okkk.xlsx')"
   ]
  },
  {
   "cell_type": "code",
   "execution_count": null,
   "id": "6a393ff8",
   "metadata": {},
   "outputs": [],
   "source": [
    "for file in files:\n",
    "    df = pd.concat(pd.read_excel(file, sheet_name=None),ignore_index=True,sort=False)\n",
    "    main = main.append(df,ignore_index=True)\n",
    "print(main) "
   ]
  },
  {
   "cell_type": "code",
   "execution_count": null,
   "id": "4f475640",
   "metadata": {},
   "outputs": [],
   "source": []
  },
  {
   "cell_type": "code",
   "execution_count": null,
   "id": "117a4e17",
   "metadata": {},
   "outputs": [],
   "source": []
  },
  {
   "cell_type": "code",
   "execution_count": null,
   "id": "667ce307",
   "metadata": {},
   "outputs": [],
   "source": [
    "i"
   ]
  },
  {
   "cell_type": "code",
   "execution_count": null,
   "id": "51c33362",
   "metadata": {},
   "outputs": [],
   "source": [
    "df"
   ]
  },
  {
   "cell_type": "code",
   "execution_count": null,
   "id": "86825cd1",
   "metadata": {},
   "outputs": [],
   "source": [
    "# count = 0\n",
    "# while count < len(files):\n",
    "#     print(count)\n",
    "#     count = count+1\n",
    "#     print(count)\n",
    "    # for item in files:\n",
    "#     print(item)\n",
    "# for i in range(0, len(files)):\n",
    "while i < 1:\n",
    "    print(i)\n",
    "#     print(i)\n",
    "#     i = i+1;\n",
    "#     files[i]   \n",
    "# df['Control_Id'] = files[i]\n",
    "# df"
   ]
  },
  {
   "cell_type": "code",
   "execution_count": null,
   "id": "c7ad1cf3",
   "metadata": {},
   "outputs": [],
   "source": [
    "i"
   ]
  },
  {
   "cell_type": "code",
   "execution_count": null,
   "id": "2293ef98",
   "metadata": {},
   "outputs": [],
   "source": [
    "main = pd.DataFrame()"
   ]
  },
  {
   "cell_type": "code",
   "execution_count": null,
   "id": "cfe8f8b4",
   "metadata": {},
   "outputs": [],
   "source": [
    "for file in files:\n",
    "    df = pd.concat(pd.read_excel(file, sheet_name=None),ignore_index=True,sort=False)\n",
    "    main = main.append(df,ignore_index=True)\n",
    "for i in range(-1, len(files)-1):\n",
    "        i = ++1\n",
    "#         print(i)\n",
    "        for f in range(1, len(df.index)):\n",
    "            f = files[i]\n",
    "main['Control_id']=f\n",
    "print(main)"
   ]
  },
  {
   "cell_type": "code",
   "execution_count": null,
   "id": "974aae66",
   "metadata": {},
   "outputs": [],
   "source": [
    "# df.insert(0, 'Control_ID', f)\n",
    "for i in range(1, len(files)-1):\n",
    "        i = i+1\n",
    "#         print(i)\n",
    "        for f in range(1, len(df.index)):\n",
    "            f = files[i]\n",
    "            print(f)\n",
    "# df.insert(0, 'Control_ID', f)  "
   ]
  },
  {
   "cell_type": "code",
   "execution_count": null,
   "id": "8f146e88",
   "metadata": {},
   "outputs": [],
   "source": [
    "main['Control_ID'] = f"
   ]
  },
  {
   "cell_type": "code",
   "execution_count": null,
   "id": "f609da98",
   "metadata": {},
   "outputs": [],
   "source": [
    "main"
   ]
  },
  {
   "cell_type": "code",
   "execution_count": null,
   "id": "f261eb47",
   "metadata": {},
   "outputs": [],
   "source": [
    "main.to_excel('main.xlsx')"
   ]
  },
  {
   "cell_type": "code",
   "execution_count": null,
   "id": "2522e873",
   "metadata": {},
   "outputs": [],
   "source": []
  },
  {
   "cell_type": "code",
   "execution_count": null,
   "id": "35760e61",
   "metadata": {},
   "outputs": [],
   "source": []
  },
  {
   "cell_type": "code",
   "execution_count": null,
   "id": "6f493dad",
   "metadata": {},
   "outputs": [],
   "source": []
  },
  {
   "cell_type": "code",
   "execution_count": null,
   "id": "7ad9e688",
   "metadata": {},
   "outputs": [],
   "source": []
  },
  {
   "cell_type": "code",
   "execution_count": null,
   "id": "599d084d",
   "metadata": {},
   "outputs": [],
   "source": []
  },
  {
   "cell_type": "code",
   "execution_count": null,
   "id": "c064caed",
   "metadata": {},
   "outputs": [],
   "source": []
  },
  {
   "cell_type": "code",
   "execution_count": null,
   "id": "a26df0ac",
   "metadata": {},
   "outputs": [],
   "source": []
  },
  {
   "cell_type": "code",
   "execution_count": null,
   "id": "0550aa6f",
   "metadata": {},
   "outputs": [],
   "source": [
    "for i in range(1,10):\n",
    "    print(i)\n",
    "    i=i+1"
   ]
  },
  {
   "cell_type": "code",
   "execution_count": null,
   "id": "89dfc194",
   "metadata": {},
   "outputs": [],
   "source": [
    "df=pd.read_excel(\"Alr_00001.xlsx\").drop(columns='Unnamed: 0')"
   ]
  },
  {
   "cell_type": "code",
   "execution_count": null,
   "id": "d2b94b02",
   "metadata": {},
   "outputs": [],
   "source": [
    "df.to_excel('Alr_00001.xlsx')"
   ]
  },
  {
   "cell_type": "code",
   "execution_count": null,
   "id": "bebd391d",
   "metadata": {},
   "outputs": [],
   "source": [
    "df.rangeindex=False"
   ]
  },
  {
   "cell_type": "code",
   "execution_count": null,
   "id": "32481453",
   "metadata": {},
   "outputs": [],
   "source": [
    "df"
   ]
  },
  {
   "cell_type": "code",
   "execution_count": null,
   "id": "85482bdc",
   "metadata": {},
   "outputs": [],
   "source": []
  },
  {
   "cell_type": "code",
   "execution_count": null,
   "id": "99fe1fbb",
   "metadata": {},
   "outputs": [],
   "source": [
    "main = pd.DataFrame()"
   ]
  },
  {
   "cell_type": "code",
   "execution_count": null,
   "id": "8fda32e1",
   "metadata": {},
   "outputs": [],
   "source": [
    "df1 = pd.read_excel(\"Alr_00001.xlsx\")\n",
    "df2 = pd.read_excel(\"Alr_00002.xlsx\")\n",
    "df3 = pd.read_excel(\"Alr_00003.xlsx\")"
   ]
  },
  {
   "cell_type": "code",
   "execution_count": null,
   "id": "bb6dbb8a",
   "metadata": {},
   "outputs": [],
   "source": [
    "df1.rename(columns = {'Id':'Employee Id','Name':'Full Name', 'SSN':'SSN'}, inplace =True)\n",
    "df2.rename(columns = {'Employee Id':'Employee Id','Names':'Full Name', 'SS#':'SSN'}, inplace =True)\n",
    "df3.rename(columns = {'Employee#':'Employee Id','Name':'Full Name', 'Fedral Id':'SSN'}, inplace =True)"
   ]
  },
  {
   "cell_type": "code",
   "execution_count": null,
   "id": "be8aabf9",
   "metadata": {},
   "outputs": [],
   "source": [
    "df1.to_excel(\"Alr_00001.xlsx\")\n",
    "df1.to_excel(\"Alr_00002.xlsx\")\n",
    "df1.to_excel(\"Alr_00003.xlsx\")"
   ]
  },
  {
   "cell_type": "code",
   "execution_count": null,
   "id": "b85a339c",
   "metadata": {},
   "outputs": [],
   "source": [
    "df1['Conyrol_ID'] = 'Alr00001_xlsx'\n",
    "df2['Conyrol_ID'] = 'Alr00002_xlsx'\n",
    "df3['Conyrol_ID'] = 'Alr00003_xlsx'"
   ]
  },
  {
   "cell_type": "code",
   "execution_count": null,
   "id": "801c9ce5",
   "metadata": {},
   "outputs": [],
   "source": [
    "for file in files:\n",
    "    df = pd.concat(pd.read_excel(file, sheet_name=None),ignore_index=False,sort=False)\n",
    "    main = main.append(df,ignore_index=False)\n",
    "print(main)"
   ]
  },
  {
   "cell_type": "code",
   "execution_count": null,
   "id": "56cacc48",
   "metadata": {},
   "outputs": [],
   "source": [
    "main.to_excel(\"main.xlsx\")"
   ]
  },
  {
   "cell_type": "code",
   "execution_count": null,
   "id": "4bb55acb",
   "metadata": {},
   "outputs": [],
   "source": [
    "def read_File():\n",
    "    file = \"Alr_00001.xlsx\"\n",
    "    sheets = pd.read_excel(file, sheet_name=None)\n",
    "    with ExcelWriter(file) as writer:\n",
    "        for name, sheet in sheets.items():\n",
    "            sheet.rename(columns={'Id':'Employee Id','Name':'Full Name', 'SSN':'SSN'}, inplace=True)\n",
    "            sheet.to_excel(excel_writer=writer, sheet_name=name, index=False)\n",
    "        writer.save()\n",
    "print(read_File)"
   ]
  },
  {
   "cell_type": "code",
   "execution_count": null,
   "id": "b38967e2",
   "metadata": {},
   "outputs": [],
   "source": [
    "pd.read_excel(\"Alr_00001.xlsx\").rename(columns = {'Id':'Employee Id','Name':'Full Name', 'SSN':'SSN'}, inplace =True)"
   ]
  },
  {
   "cell_type": "code",
   "execution_count": null,
   "id": "5c83d0d4",
   "metadata": {},
   "outputs": [],
   "source": [
    "df = pd.read_excel(\"Alr_00001.xlsx\").drop(columns={'Unnamed: 0','Unnamed: 0.1','Unnamed: 0.1.1'})"
   ]
  },
  {
   "cell_type": "code",
   "execution_count": null,
   "id": "fcf02567",
   "metadata": {},
   "outputs": [],
   "source": [
    "df= pd.read_excel(\"Alr_00001.xlsx\")"
   ]
  },
  {
   "cell_type": "code",
   "execution_count": null,
   "id": "83c76cb0",
   "metadata": {},
   "outputs": [],
   "source": [
    "df['Control_ID'] = files[1]\n",
    "df.to_excel(\"Alr_00001.xlsx\")\n",
    "df"
   ]
  },
  {
   "cell_type": "code",
   "execution_count": null,
   "id": "2ace5525",
   "metadata": {},
   "outputs": [],
   "source": [
    "df. append({\"Control ID\": files[0]}, ignore_index=True)"
   ]
  },
  {
   "cell_type": "code",
   "execution_count": null,
   "id": "2d46376a",
   "metadata": {},
   "outputs": [],
   "source": [
    "df.to_excel(\"main.xlsx\")"
   ]
  },
  {
   "cell_type": "code",
   "execution_count": null,
   "id": "87eb3832",
   "metadata": {},
   "outputs": [],
   "source": [
    "pd.read_excel(\"Alr_00001.xlsx\").rename(columns=dict,\n",
    "          inplace=True)\n",
    "pd.read_excel(file)pd.to_excel(\"Alr_00001.xlsx\")"
   ]
  },
  {
   "cell_type": "code",
   "execution_count": null,
   "id": "f3614925",
   "metadata": {},
   "outputs": [],
   "source": [
    "pd.read_excel(\"Alr_00001.xlsx\").rename"
   ]
  },
  {
   "cell_type": "code",
   "execution_count": null,
   "id": "303d4af8",
   "metadata": {},
   "outputs": [],
   "source": [
    "pd.read_excel(\"Alr_00001.xlsx\").rename({'Id':'Employee Id','Name':'Full Name'}, axis = 1, inplace = True)"
   ]
  },
  {
   "cell_type": "code",
   "execution_count": null,
   "id": "66264d42",
   "metadata": {},
   "outputs": [],
   "source": [
    "df.rename({'Employee Id':'Emp','Name':'Full Name','SSN':'SS#'}, axis = 1, inplace = True)\n"
   ]
  },
  {
   "cell_type": "code",
   "execution_count": null,
   "id": "70a147de",
   "metadata": {},
   "outputs": [],
   "source": [
    "df = pd.read_excel(\"Alr_00001.xlsx\")"
   ]
  },
  {
   "cell_type": "code",
   "execution_count": null,
   "id": "2f4f39ef",
   "metadata": {},
   "outputs": [],
   "source": [
    "df"
   ]
  },
  {
   "cell_type": "code",
   "execution_count": null,
   "id": "c37f0946",
   "metadata": {
    "scrolled": true
   },
   "outputs": [],
   "source": [
    "for file in files:\n",
    "    df = pd.concat(pd.read_excel(file, sheet_name=None),ignore_index=True,sort=False)\n",
    "    main = main.append(df,ignore_index=True)\n",
    "print(main) "
   ]
  },
  {
   "cell_type": "code",
   "execution_count": null,
   "id": "c51f5601",
   "metadata": {},
   "outputs": [],
   "source": [
    "finaleexcelsheet.to_excel(\"main.xlsx\")"
   ]
  },
  {
   "cell_type": "code",
   "execution_count": null,
   "id": "d4a11a63",
   "metadata": {},
   "outputs": [],
   "source": [
    "pd.read_excel(\"main.xlsx\")"
   ]
  },
  {
   "cell_type": "code",
   "execution_count": null,
   "id": "da8bb431",
   "metadata": {},
   "outputs": [],
   "source": [
    "df = pd.read_excel('loops.xlsx')"
   ]
  },
  {
   "cell_type": "code",
   "execution_count": null,
   "id": "6fb230a5",
   "metadata": {},
   "outputs": [],
   "source": [
    "df"
   ]
  },
  {
   "cell_type": "code",
   "execution_count": 2,
   "id": "0a93c4b5",
   "metadata": {},
   "outputs": [],
   "source": [
    "main = pd.DataFrame()"
   ]
  },
  {
   "cell_type": "code",
   "execution_count": 70,
   "id": "19335bd9",
   "metadata": {},
   "outputs": [
    {
     "name": "stdout",
     "output_type": "stream",
     "text": [
      "False\n"
     ]
    }
   ],
   "source": [
    "from openpyxl import Workbook, load_workbook\n",
    "wb = load_workbook(\"loops.xlsx\")\n",
    "ws = wb.active\n",
    "for r in range(3, 4):\n",
    "    cntrl_id = ws.cell(r, 1).value\n",
    "    df = pd.read_excel(cntrl_id)\n",
    "    ssn = int(ws.cell(r, 2).value)\n",
    "    df = df[df.eq(ssn).any(1)]\n",
    "    if df.empty:\n",
    "        print(False)\n",
    "    else:\n",
    "        print(True)\n",
    "#     r = r+1;\n",
    "#     main = main.append(df,ignore_index=True)\n",
    "    r = r+1;\n",
    "# main"
   ]
  },
  {
   "cell_type": "code",
   "execution_count": 47,
   "id": "b67da02c",
   "metadata": {},
   "outputs": [
    {
     "data": {
      "text/plain": [
       "205685021"
      ]
     },
     "execution_count": 47,
     "metadata": {},
     "output_type": "execute_result"
    }
   ],
   "source": [
    "ssn"
   ]
  },
  {
   "cell_type": "code",
   "execution_count": null,
   "id": "47346cf5",
   "metadata": {},
   "outputs": [],
   "source": [
    "pd.read_excel(i.value)"
   ]
  },
  {
   "cell_type": "code",
   "execution_count": null,
   "id": "a4ebff8c",
   "metadata": {},
   "outputs": [],
   "source": [
    "import openpyxl\n",
    "# load excel with its path\n",
    "wrkbk = load_workbook(\"loops.xlsx\")\n",
    "sh = wrkbk.active\n",
    "# to iterate through cells in Column A and print value in console\n",
    "for c in sh['A']:\n",
    "   print(c.value)"
   ]
  },
  {
   "cell_type": "code",
   "execution_count": null,
   "id": "f4587b62",
   "metadata": {},
   "outputs": [],
   "source": [
    "for file in files:\n",
    "    df = df[df.eq(226831878).any(1)]\n",
    "    df"
   ]
  },
  {
   "cell_type": "code",
   "execution_count": null,
   "id": "62beb805",
   "metadata": {},
   "outputs": [],
   "source": [
    "files[0]"
   ]
  },
  {
   "cell_type": "code",
   "execution_count": null,
   "id": "c38e9ef9",
   "metadata": {},
   "outputs": [],
   "source": [
    "files"
   ]
  },
  {
   "cell_type": "code",
   "execution_count": 58,
   "id": "ae71fe46",
   "metadata": {},
   "outputs": [],
   "source": [
    "df = pd.read_excel('Alr_00002.xlsx', sheet_name = None)"
   ]
  },
  {
   "cell_type": "code",
   "execution_count": 65,
   "id": "5132b39c",
   "metadata": {},
   "outputs": [],
   "source": [
    "if \"205685021.0\" == df:\n",
    "    print('yes')"
   ]
  },
  {
   "cell_type": "code",
   "execution_count": null,
   "id": "b851699d",
   "metadata": {},
   "outputs": [],
   "source": []
  }
 ],
 "metadata": {
  "kernelspec": {
   "display_name": "Python 3 (ipykernel)",
   "language": "python",
   "name": "python3"
  },
  "language_info": {
   "codemirror_mode": {
    "name": "ipython",
    "version": 3
   },
   "file_extension": ".py",
   "mimetype": "text/x-python",
   "name": "python",
   "nbconvert_exporter": "python",
   "pygments_lexer": "ipython3",
   "version": "3.9.7"
  }
 },
 "nbformat": 4,
 "nbformat_minor": 5
}
